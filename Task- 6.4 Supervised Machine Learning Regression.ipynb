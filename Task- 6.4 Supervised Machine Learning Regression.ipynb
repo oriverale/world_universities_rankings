{
 "cells": [
  {
   "cell_type": "markdown",
   "id": "ac5ae54e",
   "metadata": {},
   "source": [
    "# Regression Analysis"
   ]
  },
  {
   "cell_type": "markdown",
   "id": "baa8365e",
   "metadata": {},
   "source": [
    "## 1. Import libraries"
   ]
  },
  {
   "cell_type": "code",
   "execution_count": 294,
   "id": "5b5d74c7",
   "metadata": {},
   "outputs": [],
   "source": [
    "# Import libraries\n",
    "import pandas as pd\n",
    "import numpy as np\n",
    "import seaborn as sns\n",
    "import matplotlib\n",
    "import matplotlib.pyplot as plt\n",
    "import os\n",
    "import sklearn\n",
    "from sklearn.model_selection import train_test_split \n",
    "from sklearn.linear_model import LinearRegression\n",
    "from sklearn.metrics import mean_squared_error, r2_score"
   ]
  },
  {
   "cell_type": "code",
   "execution_count": 295,
   "id": "c520bb98",
   "metadata": {},
   "outputs": [],
   "source": [
    "# This option ensures that the graphs you create are displayed within the notebook without the need to \"call\" them specifically.\n",
    "\n",
    "%matplotlib inline"
   ]
  },
  {
   "cell_type": "code",
   "execution_count": 308,
   "id": "483befa2",
   "metadata": {},
   "outputs": [],
   "source": [
    "# Define path and load data \n",
    "path= r'C:\\Users\\ale_o\\OneDrive\\Escritorio\\Data Analytics\\7. Advanced Analytics and Dashboard Design'"
   ]
  },
  {
   "cell_type": "code",
   "execution_count": 309,
   "id": "6a3753cc",
   "metadata": {},
   "outputs": [],
   "source": [
    "#load data\n",
    "df = pd.read_csv(os.path.join(path,'Data', 'Original Data', 'cwurData.csv'))"
   ]
  },
  {
   "cell_type": "markdown",
   "id": "10d0a24b",
   "metadata": {},
   "source": [
    "## 2. Data cleaning"
   ]
  },
  {
   "cell_type": "code",
   "execution_count": 310,
   "id": "624ef857",
   "metadata": {},
   "outputs": [
    {
     "data": {
      "text/plain": [
       "Index(['world_rank', 'institution', 'country', 'national_rank',\n",
       "       'quality_of_education', 'alumni_employment', 'quality_of_faculty',\n",
       "       'publications', 'influence', 'citations', 'broad_impact', 'patents',\n",
       "       'score', 'year'],\n",
       "      dtype='object')"
      ]
     },
     "execution_count": 310,
     "metadata": {},
     "output_type": "execute_result"
    }
   ],
   "source": [
    "df.columns"
   ]
  },
  {
   "cell_type": "code",
   "execution_count": 311,
   "id": "2eb646ae",
   "metadata": {},
   "outputs": [
    {
     "data": {
      "text/html": [
       "<div>\n",
       "<style scoped>\n",
       "    .dataframe tbody tr th:only-of-type {\n",
       "        vertical-align: middle;\n",
       "    }\n",
       "\n",
       "    .dataframe tbody tr th {\n",
       "        vertical-align: top;\n",
       "    }\n",
       "\n",
       "    .dataframe thead th {\n",
       "        text-align: right;\n",
       "    }\n",
       "</style>\n",
       "<table border=\"1\" class=\"dataframe\">\n",
       "  <thead>\n",
       "    <tr style=\"text-align: right;\">\n",
       "      <th></th>\n",
       "      <th>world_rank</th>\n",
       "      <th>institution</th>\n",
       "      <th>country</th>\n",
       "      <th>national_rank</th>\n",
       "      <th>quality_of_education</th>\n",
       "      <th>alumni_employment</th>\n",
       "      <th>quality_of_faculty</th>\n",
       "      <th>publications</th>\n",
       "      <th>influence</th>\n",
       "      <th>citations</th>\n",
       "      <th>broad_impact</th>\n",
       "      <th>patents</th>\n",
       "      <th>score</th>\n",
       "      <th>year</th>\n",
       "    </tr>\n",
       "  </thead>\n",
       "  <tbody>\n",
       "    <tr>\n",
       "      <th>0</th>\n",
       "      <td>1000</td>\n",
       "      <td>Harvard University</td>\n",
       "      <td>United States of America</td>\n",
       "      <td>1</td>\n",
       "      <td>367</td>\n",
       "      <td>1</td>\n",
       "      <td>1</td>\n",
       "      <td>1</td>\n",
       "      <td>1</td>\n",
       "      <td>1</td>\n",
       "      <td>NaN</td>\n",
       "      <td>7</td>\n",
       "      <td>100.00</td>\n",
       "      <td>2013</td>\n",
       "    </tr>\n",
       "    <tr>\n",
       "      <th>1</th>\n",
       "      <td>999</td>\n",
       "      <td>Harvard University</td>\n",
       "      <td>United States of America</td>\n",
       "      <td>1</td>\n",
       "      <td>367</td>\n",
       "      <td>1</td>\n",
       "      <td>1</td>\n",
       "      <td>1</td>\n",
       "      <td>1</td>\n",
       "      <td>1</td>\n",
       "      <td>1.0</td>\n",
       "      <td>2</td>\n",
       "      <td>100.00</td>\n",
       "      <td>2014</td>\n",
       "    </tr>\n",
       "    <tr>\n",
       "      <th>2</th>\n",
       "      <td>999</td>\n",
       "      <td>Harvard University</td>\n",
       "      <td>United States of America</td>\n",
       "      <td>1</td>\n",
       "      <td>367</td>\n",
       "      <td>1</td>\n",
       "      <td>1</td>\n",
       "      <td>1</td>\n",
       "      <td>1</td>\n",
       "      <td>1</td>\n",
       "      <td>1.0</td>\n",
       "      <td>3</td>\n",
       "      <td>100.00</td>\n",
       "      <td>2015</td>\n",
       "    </tr>\n",
       "    <tr>\n",
       "      <th>3</th>\n",
       "      <td>960</td>\n",
       "      <td>Rockefeller University</td>\n",
       "      <td>United States of America</td>\n",
       "      <td>15</td>\n",
       "      <td>367</td>\n",
       "      <td>101</td>\n",
       "      <td>16</td>\n",
       "      <td>101</td>\n",
       "      <td>28</td>\n",
       "      <td>96</td>\n",
       "      <td>NaN</td>\n",
       "      <td>101</td>\n",
       "      <td>61.74</td>\n",
       "      <td>2012</td>\n",
       "    </tr>\n",
       "    <tr>\n",
       "      <th>4</th>\n",
       "      <td>994</td>\n",
       "      <td>University of Cambridge</td>\n",
       "      <td>United Kingdom</td>\n",
       "      <td>1</td>\n",
       "      <td>367</td>\n",
       "      <td>10</td>\n",
       "      <td>5</td>\n",
       "      <td>10</td>\n",
       "      <td>9</td>\n",
       "      <td>12</td>\n",
       "      <td>13.0</td>\n",
       "      <td>48</td>\n",
       "      <td>97.64</td>\n",
       "      <td>2014</td>\n",
       "    </tr>\n",
       "    <tr>\n",
       "      <th>5</th>\n",
       "      <td>993</td>\n",
       "      <td>University of Cambridge</td>\n",
       "      <td>United Kingdom</td>\n",
       "      <td>1</td>\n",
       "      <td>367</td>\n",
       "      <td>10</td>\n",
       "      <td>5</td>\n",
       "      <td>11</td>\n",
       "      <td>6</td>\n",
       "      <td>12</td>\n",
       "      <td>13.0</td>\n",
       "      <td>48</td>\n",
       "      <td>96.81</td>\n",
       "      <td>2015</td>\n",
       "    </tr>\n",
       "    <tr>\n",
       "      <th>6</th>\n",
       "      <td>993</td>\n",
       "      <td>Massachusetts Institute of Technology</td>\n",
       "      <td>United States of America</td>\n",
       "      <td>3</td>\n",
       "      <td>367</td>\n",
       "      <td>16</td>\n",
       "      <td>2</td>\n",
       "      <td>16</td>\n",
       "      <td>3</td>\n",
       "      <td>3</td>\n",
       "      <td>NaN</td>\n",
       "      <td>1</td>\n",
       "      <td>91.45</td>\n",
       "      <td>2013</td>\n",
       "    </tr>\n",
       "    <tr>\n",
       "      <th>7</th>\n",
       "      <td>991</td>\n",
       "      <td>California Institute of Technology</td>\n",
       "      <td>United States of America</td>\n",
       "      <td>4</td>\n",
       "      <td>367</td>\n",
       "      <td>29</td>\n",
       "      <td>7</td>\n",
       "      <td>37</td>\n",
       "      <td>22</td>\n",
       "      <td>22</td>\n",
       "      <td>NaN</td>\n",
       "      <td>18</td>\n",
       "      <td>85.21</td>\n",
       "      <td>2012</td>\n",
       "    </tr>\n",
       "    <tr>\n",
       "      <th>8</th>\n",
       "      <td>995</td>\n",
       "      <td>Massachusetts Institute of Technology</td>\n",
       "      <td>United States of America</td>\n",
       "      <td>3</td>\n",
       "      <td>367</td>\n",
       "      <td>11</td>\n",
       "      <td>2</td>\n",
       "      <td>15</td>\n",
       "      <td>2</td>\n",
       "      <td>2</td>\n",
       "      <td>2.0</td>\n",
       "      <td>1</td>\n",
       "      <td>98.69</td>\n",
       "      <td>2014</td>\n",
       "    </tr>\n",
       "    <tr>\n",
       "      <th>9</th>\n",
       "      <td>995</td>\n",
       "      <td>Massachusetts Institute of Technology</td>\n",
       "      <td>United States of America</td>\n",
       "      <td>3</td>\n",
       "      <td>367</td>\n",
       "      <td>11</td>\n",
       "      <td>2</td>\n",
       "      <td>15</td>\n",
       "      <td>2</td>\n",
       "      <td>2</td>\n",
       "      <td>2.0</td>\n",
       "      <td>1</td>\n",
       "      <td>97.54</td>\n",
       "      <td>2015</td>\n",
       "    </tr>\n",
       "  </tbody>\n",
       "</table>\n",
       "</div>"
      ],
      "text/plain": [
       "   world_rank                            institution  \\\n",
       "0        1000                     Harvard University   \n",
       "1         999                     Harvard University   \n",
       "2         999                     Harvard University   \n",
       "3         960                 Rockefeller University   \n",
       "4         994                University of Cambridge   \n",
       "5         993                University of Cambridge   \n",
       "6         993  Massachusetts Institute of Technology   \n",
       "7         991     California Institute of Technology   \n",
       "8         995  Massachusetts Institute of Technology   \n",
       "9         995  Massachusetts Institute of Technology   \n",
       "\n",
       "                    country  national_rank  quality_of_education  \\\n",
       "0  United States of America              1                   367   \n",
       "1  United States of America              1                   367   \n",
       "2  United States of America              1                   367   \n",
       "3  United States of America             15                   367   \n",
       "4            United Kingdom              1                   367   \n",
       "5            United Kingdom              1                   367   \n",
       "6  United States of America              3                   367   \n",
       "7  United States of America              4                   367   \n",
       "8  United States of America              3                   367   \n",
       "9  United States of America              3                   367   \n",
       "\n",
       "   alumni_employment  quality_of_faculty  publications  influence  citations  \\\n",
       "0                  1                   1             1          1          1   \n",
       "1                  1                   1             1          1          1   \n",
       "2                  1                   1             1          1          1   \n",
       "3                101                  16           101         28         96   \n",
       "4                 10                   5            10          9         12   \n",
       "5                 10                   5            11          6         12   \n",
       "6                 16                   2            16          3          3   \n",
       "7                 29                   7            37         22         22   \n",
       "8                 11                   2            15          2          2   \n",
       "9                 11                   2            15          2          2   \n",
       "\n",
       "   broad_impact  patents   score  year  \n",
       "0           NaN        7  100.00  2013  \n",
       "1           1.0        2  100.00  2014  \n",
       "2           1.0        3  100.00  2015  \n",
       "3           NaN      101   61.74  2012  \n",
       "4          13.0       48   97.64  2014  \n",
       "5          13.0       48   96.81  2015  \n",
       "6           NaN        1   91.45  2013  \n",
       "7           NaN       18   85.21  2012  \n",
       "8           2.0        1   98.69  2014  \n",
       "9           2.0        1   97.54  2015  "
      ]
     },
     "execution_count": 311,
     "metadata": {},
     "output_type": "execute_result"
    }
   ],
   "source": [
    "df.head(10)"
   ]
  },
  {
   "cell_type": "code",
   "execution_count": 312,
   "id": "a6bf7ec3",
   "metadata": {},
   "outputs": [
    {
     "data": {
      "text/plain": [
       "(2200, 14)"
      ]
     },
     "execution_count": 312,
     "metadata": {},
     "output_type": "execute_result"
    }
   ],
   "source": [
    "df.shape"
   ]
  },
  {
   "cell_type": "code",
   "execution_count": 313,
   "id": "12bc734d",
   "metadata": {},
   "outputs": [
    {
     "data": {
      "text/plain": [
       "(2200,)"
      ]
     },
     "execution_count": 313,
     "metadata": {},
     "output_type": "execute_result"
    }
   ],
   "source": [
    "# Duplicate values\n",
    "duplicates = df.duplicated()\n",
    "duplicates.shape"
   ]
  },
  {
   "cell_type": "code",
   "execution_count": 314,
   "id": "f6c28297",
   "metadata": {},
   "outputs": [
    {
     "data": {
      "text/plain": [
       "world_rank                0\n",
       "institution               0\n",
       "country                   0\n",
       "national_rank             0\n",
       "quality_of_education      0\n",
       "alumni_employment         0\n",
       "quality_of_faculty        0\n",
       "publications              0\n",
       "influence                 0\n",
       "citations                 0\n",
       "broad_impact            200\n",
       "patents                   0\n",
       "score                     0\n",
       "year                      0\n",
       "dtype: int64"
      ]
     },
     "execution_count": 314,
     "metadata": {},
     "output_type": "execute_result"
    }
   ],
   "source": [
    "# Check missing values \n",
    "df.isnull().sum()"
   ]
  },
  {
   "cell_type": "code",
   "execution_count": 315,
   "id": "54f237ba",
   "metadata": {},
   "outputs": [],
   "source": [
    "# Drop unnecesary columns \n",
    "df_2 =df.drop(columns=  ['broad_impact'])"
   ]
  },
  {
   "cell_type": "code",
   "execution_count": 316,
   "id": "68ff770a",
   "metadata": {},
   "outputs": [
    {
     "data": {
      "text/plain": [
       "Index(['world_rank', 'institution', 'country', 'national_rank',\n",
       "       'quality_of_education', 'alumni_employment', 'quality_of_faculty',\n",
       "       'publications', 'influence', 'citations', 'patents', 'score', 'year'],\n",
       "      dtype='object')"
      ]
     },
     "execution_count": 316,
     "metadata": {},
     "output_type": "execute_result"
    }
   ],
   "source": [
    "df_2.columns"
   ]
  },
  {
   "cell_type": "code",
   "execution_count": 317,
   "id": "21152425",
   "metadata": {},
   "outputs": [
    {
     "data": {
      "text/plain": [
       "(2200, 13)"
      ]
     },
     "execution_count": 317,
     "metadata": {},
     "output_type": "execute_result"
    }
   ],
   "source": [
    "df_2.shape"
   ]
  },
  {
   "cell_type": "code",
   "execution_count": 318,
   "id": "0438061e",
   "metadata": {},
   "outputs": [
    {
     "name": "stderr",
     "output_type": "stream",
     "text": [
      "C:\\Users\\ale_o\\anaconda3\\lib\\site-packages\\seaborn\\distributions.py:2619: FutureWarning: `distplot` is a deprecated function and will be removed in a future version. Please adapt your code to use either `displot` (a figure-level function with similar flexibility) or `histplot` (an axes-level function for histograms).\n",
      "  warnings.warn(msg, FutureWarning)\n"
     ]
    },
    {
     "data": {
      "text/plain": [
       "<AxesSubplot:xlabel='score', ylabel='Density'>"
      ]
     },
     "execution_count": 318,
     "metadata": {},
     "output_type": "execute_result"
    },
    {
     "data": {
      "image/png": "[encoded data removed]",
      "text/plain": [
       "<Figure size 640x480 with 1 Axes>"
      ]
     },
     "metadata": {},
     "output_type": "display_data"
    }
   ],
   "source": [
    "# Extreme values check \n",
    "sns.distplot(df_2['score'], bins=25)"
   ]
  },
  {
   "cell_type": "code",
   "execution_count": 319,
   "id": "5087cfb0",
   "metadata": {},
   "outputs": [
    {
     "data": {
      "text/plain": [
       "47.798"
      ]
     },
     "execution_count": 319,
     "metadata": {},
     "output_type": "execute_result"
    }
   ],
   "source": [
    "# Check the mean \n",
    "round(df_2['score'].mean(),3)"
   ]
  },
  {
   "cell_type": "code",
   "execution_count": 320,
   "id": "6c8ae3ec",
   "metadata": {},
   "outputs": [
    {
     "data": {
      "text/plain": [
       "45.1"
      ]
     },
     "execution_count": 320,
     "metadata": {},
     "output_type": "execute_result"
    }
   ],
   "source": [
    "# Check median \n",
    "round(df_2['score'].median(),3)"
   ]
  },
  {
   "cell_type": "code",
   "execution_count": 321,
   "id": "5438243e",
   "metadata": {},
   "outputs": [
    {
     "data": {
      "text/plain": [
       "100.0"
      ]
     },
     "execution_count": 321,
     "metadata": {},
     "output_type": "execute_result"
    }
   ],
   "source": [
    "# Check the max value \n",
    "df_2['score'].max()"
   ]
  },
  {
   "cell_type": "code",
   "execution_count": 322,
   "id": "9c25b77e",
   "metadata": {},
   "outputs": [
    {
     "data": {
      "text/plain": [
       "43.36"
      ]
     },
     "execution_count": 322,
     "metadata": {},
     "output_type": "execute_result"
    }
   ],
   "source": [
    "# Check min value \n",
    "df_2['score'].min()"
   ]
  },
  {
   "cell_type": "markdown",
   "id": "17391109",
   "metadata": {},
   "source": [
    "## 3. Explore data "
   ]
  },
  {
   "cell_type": "code",
   "execution_count": 323,
   "id": "a9292a56",
   "metadata": {},
   "outputs": [
    {
     "data": {
      "image/png": "[encoded data removed]",
      "text/plain": [
       "<Figure size 640x480 with 1 Axes>"
      ]
     },
     "metadata": {},
     "output_type": "display_data"
    }
   ],
   "source": [
    "# Create a scatterplot \n",
    "# Relationship between rank and score\n",
    "\n",
    "df.plot(x = 'world_rank', y= 'score', style = 'o')\n",
    "plt.title (\"Relationship between world rank and score\")\n",
    "plt.xlabel('World Rank')\n",
    "plt.ylabel('Score')\n",
    "plt.show()"
   ]
  },
  {
   "cell_type": "markdown",
   "id": "6a3a77a8",
   "metadata": {},
   "source": [
    "## 4. Define Hypothesis"
   ]
  },
  {
   "cell_type": "markdown",
   "id": "7e3bad48",
   "metadata": {},
   "source": [
    "#### Hypthotesis: the world ranking is linked to the general score of each university. "
   ]
  },
  {
   "cell_type": "markdown",
   "id": "5912158e",
   "metadata": {},
   "source": [
    "## 6. Reshape the variables"
   ]
  },
  {
   "cell_type": "code",
   "execution_count": 332,
   "id": "910f8fdf",
   "metadata": {},
   "outputs": [],
   "source": [
    "# Reshape the variables\n",
    "X = df['world_rank'].values.reshape(-1,1)\n",
    "y = df['score'].values.reshape(-1,1)"
   ]
  },
  {
   "cell_type": "code",
   "execution_count": 333,
   "id": "ba9b3449",
   "metadata": {},
   "outputs": [
    {
     "data": {
      "text/plain": [
       "array([[1000],\n",
       "       [ 999],\n",
       "       [ 999],\n",
       "       ...,\n",
       "       [   2],\n",
       "       [   1],\n",
       "       [   1]], dtype=int64)"
      ]
     },
     "execution_count": 333,
     "metadata": {},
     "output_type": "execute_result"
    }
   ],
   "source": [
    "X"
   ]
  },
  {
   "cell_type": "code",
   "execution_count": 334,
   "id": "ea60ca75",
   "metadata": {},
   "outputs": [
    {
     "name": "stdout",
     "output_type": "stream",
     "text": [
      "2200\n"
     ]
    }
   ],
   "source": [
    "print(len(X))"
   ]
  },
  {
   "cell_type": "code",
   "execution_count": 335,
   "id": "6579d564",
   "metadata": {},
   "outputs": [
    {
     "data": {
      "text/plain": [
       "array([[100.  ],\n",
       "       [100.  ],\n",
       "       [100.  ],\n",
       "       ...,\n",
       "       [ 44.03],\n",
       "       [ 44.02],\n",
       "       [ 44.02]])"
      ]
     },
     "execution_count": 335,
     "metadata": {},
     "output_type": "execute_result"
    }
   ],
   "source": [
    "y"
   ]
  },
  {
   "cell_type": "code",
   "execution_count": 336,
   "id": "ad48c0aa",
   "metadata": {},
   "outputs": [
    {
     "name": "stdout",
     "output_type": "stream",
     "text": [
      "2200\n"
     ]
    }
   ],
   "source": [
    "print(len(y))"
   ]
  },
  {
   "cell_type": "markdown",
   "id": "b8f748b0",
   "metadata": {},
   "source": [
    "## 7. Split the data into two sets"
   ]
  },
  {
   "cell_type": "code",
   "execution_count": 339,
   "id": "c6dd8a76",
   "metadata": {},
   "outputs": [],
   "source": [
    "# Create a training set and a test set\n",
    "X_train, y_train, X_test, y_test = train_test_split(X,y, test_size =0.5, random_state =0)"
   ]
  },
  {
   "cell_type": "code",
   "execution_count": 342,
   "id": "e53f6fd1",
   "metadata": {},
   "outputs": [],
   "source": [
    "# Create a scatterplot \n",
    "# Relationship between quality of education and score\n",
    "\n",
    "#df.plot(x = 'quality_of_education', y= 'score', style = 'o')\n",
    "\n",
    "#plt.title (\"Relationship between quality of education and score\")\n",
    "#plt.xlabel('Quality of education')\n",
    "#plt.ylabel('Score')\n",
    "#plt.show()"
   ]
  },
  {
   "cell_type": "code",
   "execution_count": 341,
   "id": "d4ca80fc",
   "metadata": {},
   "outputs": [],
   "source": [
    "# Reshape the variables \n",
    "#X = df['quality_of_education'].values.reshape(-1,1)\n",
    "#y = df['score'].values.reshape(-1,1)"
   ]
  },
  {
   "cell_type": "markdown",
   "id": "576fcab7",
   "metadata": {},
   "source": [
    "## 8. Regression analysis "
   ]
  },
  {
   "cell_type": "code",
   "execution_count": 273,
   "id": "c30f5b9d",
   "metadata": {},
   "outputs": [],
   "source": [
    "# Create a regression object \n",
    "\n",
    "regression = LinearRegression()"
   ]
  },
  {
   "cell_type": "code",
   "execution_count": 274,
   "id": "99fc7366",
   "metadata": {},
   "outputs": [
    {
     "name": "stdout",
     "output_type": "stream",
     "text": [
      "1100\n"
     ]
    }
   ],
   "source": [
    "print(len(X_train))"
   ]
  },
  {
   "cell_type": "code",
   "execution_count": 275,
   "id": "f40c6ce8",
   "metadata": {},
   "outputs": [
    {
     "name": "stdout",
     "output_type": "stream",
     "text": [
      "1100\n"
     ]
    }
   ],
   "source": [
    "print(len(y_train))"
   ]
  },
  {
   "cell_type": "code",
   "execution_count": 276,
   "id": "3c04ba03",
   "metadata": {},
   "outputs": [
    {
     "data": {
      "text/plain": [
       "LinearRegression()"
      ]
     },
     "execution_count": 276,
     "metadata": {},
     "output_type": "execute_result"
    }
   ],
   "source": [
    "# Fit the regression object onto the training set\n",
    "\n",
    "regression.fit(X_train, y_train)"
   ]
  },
  {
   "cell_type": "code",
   "execution_count": 277,
   "id": "bec1c384",
   "metadata": {},
   "outputs": [],
   "source": [
    "# Predict the values of y using X \n",
    "y_predicted = regression.predict(X_test)"
   ]
  },
  {
   "cell_type": "code",
   "execution_count": 284,
   "id": "5bf1a9a8",
   "metadata": {},
   "outputs": [
    {
     "data": {
      "image/png": "[encoded data removed]",
      "text/plain": [
       "<Figure size 640x480 with 1 Axes>"
      ]
     },
     "metadata": {},
     "output_type": "display_data"
    }
   ],
   "source": [
    "# Create a plot that shows the regression line from the model on the test set \n",
    "plot_test = plt \n",
    "plot_test.scatter(X_test, y_test, color = 'blue', s= 15)\n",
    "plot_test.plot(X_test, y_predicted, color = 'red', linewidth =3)\n",
    "plot_test.title ('Relationship between world rank and score (test)')\n",
    "plot_test.xlabel('Score')\n",
    "plot_test.ylabel('World Rank')\n",
    "plot_test.show()"
   ]
  },
  {
   "cell_type": "markdown",
   "id": "dfbe42d7",
   "metadata": {},
   "source": [
    "#### Comments:\n",
    "As shown in the graph the relationship between the wo variables in the regression model is null. The output modeled is much higher than the real numbers. "
   ]
  },
  {
   "cell_type": "markdown",
   "id": "925d9f72",
   "metadata": {},
   "source": [
    "## 10. Model performance statistics"
   ]
  },
  {
   "cell_type": "code",
   "execution_count": 285,
   "id": "ec23d4b6",
   "metadata": {},
   "outputs": [],
   "source": [
    "#Create objects that contain the model summary statistics \n",
    "\n",
    "rmse = mean_squared_error(y_test, y_predicted)\n",
    "r2 = r2_score(y_test, y_predicted)"
   ]
  },
  {
   "cell_type": "code",
   "execution_count": 286,
   "id": "9008b194",
   "metadata": {},
   "outputs": [
    {
     "name": "stdout",
     "output_type": "stream",
     "text": [
      "Slope: [[-0.02324626]]\n",
      "Mean squared error:  181527.16380423552\n",
      "R2 score:  -2389.3476412916402\n"
     ]
    }
   ],
   "source": [
    "# Prin statistical parameters \n",
    "\n",
    "print('Slope:', regression.coef_)\n",
    "print('Mean squared error: ', rmse)\n",
    "print('R2 score: ', r2)"
   ]
  },
  {
   "cell_type": "markdown",
   "id": "8d9a7973",
   "metadata": {},
   "source": [
    "#### Comments: \n",
    "\n",
    "This statistical parameters let us confirm that the data gotten from the regression model is not reliable. \n",
    "For the slope, the model has a negative model which means that as the world rank increases the score decreases. \n",
    "For the mean squared error, we can confirm it is pretty big which means that there is a big difference between the data predicted and the real model. \n",
    "Finally, the R2 score is very big negative number, whichs is interpreted as a poor fit between the predicted and the actual numbers. "
   ]
  },
  {
   "cell_type": "code",
   "execution_count": 343,
   "id": "d4bf32fb",
   "metadata": {},
   "outputs": [
    {
     "data": {
      "text/plain": [
       "array([[474.17662959],\n",
       "       [474.12502291],\n",
       "       [474.00437484],\n",
       "       ...,\n",
       "       [474.1859281 ],\n",
       "       [474.18569563],\n",
       "       [474.22265718]])"
      ]
     },
     "execution_count": 343,
     "metadata": {},
     "output_type": "execute_result"
    }
   ],
   "source": [
    "y_predicted"
   ]
  },
  {
   "cell_type": "code",
   "execution_count": 344,
   "id": "11baacf2",
   "metadata": {},
   "outputs": [
    {
     "data": {
      "text/plain": [
       "(1100, 1)"
      ]
     },
     "execution_count": 344,
     "metadata": {},
     "output_type": "execute_result"
    }
   ],
   "source": [
    "y_predicted.shape"
   ]
  },
  {
   "cell_type": "code",
   "execution_count": 345,
   "id": "180689dd",
   "metadata": {},
   "outputs": [
    {
     "data": {
      "text/html": [
       "<div>\n",
       "<style scoped>\n",
       "    .dataframe tbody tr th:only-of-type {\n",
       "        vertical-align: middle;\n",
       "    }\n",
       "\n",
       "    .dataframe tbody tr th {\n",
       "        vertical-align: top;\n",
       "    }\n",
       "\n",
       "    .dataframe thead th {\n",
       "        text-align: right;\n",
       "    }\n",
       "</style>\n",
       "<table border=\"1\" class=\"dataframe\">\n",
       "  <thead>\n",
       "    <tr style=\"text-align: right;\">\n",
       "      <th></th>\n",
       "      <th>Actual</th>\n",
       "      <th>Predicted</th>\n",
       "    </tr>\n",
       "  </thead>\n",
       "  <tbody>\n",
       "    <tr>\n",
       "      <th>0</th>\n",
       "      <td>44.59</td>\n",
       "      <td>474.176630</td>\n",
       "    </tr>\n",
       "    <tr>\n",
       "      <th>1</th>\n",
       "      <td>44.53</td>\n",
       "      <td>474.125023</td>\n",
       "    </tr>\n",
       "    <tr>\n",
       "      <th>2</th>\n",
       "      <td>44.63</td>\n",
       "      <td>474.004375</td>\n",
       "    </tr>\n",
       "    <tr>\n",
       "      <th>3</th>\n",
       "      <td>55.67</td>\n",
       "      <td>474.067372</td>\n",
       "    </tr>\n",
       "    <tr>\n",
       "      <th>4</th>\n",
       "      <td>50.37</td>\n",
       "      <td>474.227074</td>\n",
       "    </tr>\n",
       "    <tr>\n",
       "      <th>5</th>\n",
       "      <td>50.58</td>\n",
       "      <td>474.006235</td>\n",
       "    </tr>\n",
       "    <tr>\n",
       "      <th>6</th>\n",
       "      <td>45.53</td>\n",
       "      <td>474.219635</td>\n",
       "    </tr>\n",
       "    <tr>\n",
       "      <th>7</th>\n",
       "      <td>43.77</td>\n",
       "      <td>474.226377</td>\n",
       "    </tr>\n",
       "    <tr>\n",
       "      <th>8</th>\n",
       "      <td>44.41</td>\n",
       "      <td>474.108053</td>\n",
       "    </tr>\n",
       "    <tr>\n",
       "      <th>9</th>\n",
       "      <td>45.43</td>\n",
       "      <td>474.218938</td>\n",
       "    </tr>\n",
       "  </tbody>\n",
       "</table>\n",
       "</div>"
      ],
      "text/plain": [
       "   Actual   Predicted\n",
       "0   44.59  474.176630\n",
       "1   44.53  474.125023\n",
       "2   44.63  474.004375\n",
       "3   55.67  474.067372\n",
       "4   50.37  474.227074\n",
       "5   50.58  474.006235\n",
       "6   45.53  474.219635\n",
       "7   43.77  474.226377\n",
       "8   44.41  474.108053\n",
       "9   45.43  474.218938"
      ]
     },
     "execution_count": 345,
     "metadata": {},
     "output_type": "execute_result"
    }
   ],
   "source": [
    "# Compare the actual y and the y predicted \n",
    "data = pd.DataFrame({'Actual': y_test.flatten(), 'Predicted': y_predicted.flatten()})\n",
    "data.head(10)"
   ]
  },
  {
   "cell_type": "markdown",
   "id": "8a2f0e00",
   "metadata": {},
   "source": [
    "#### Comments: \n",
    "This chart let us see what we concluded before, there is a big difference between the actual and the predicted data. \n",
    "\n",
    "As followign steps it would be necessary to determine if the dataset is big enough to get to conclusions, there is a big gap between the model ran and the real data, when the output expected is different. \n",
    "\n",
    "Overall, with the previous analysis it can be concluded that the hypothesis determined is false. "
   ]
  },
  {
   "cell_type": "markdown",
   "id": "347a44ea",
   "metadata": {},
   "source": []
  }
 ],
 "metadata": {
  "kernelspec": {
   "display_name": "Python 3 (ipykernel)",
   "language": "python",
   "name": "python3"
  },
  "language_info": {
   "codemirror_mode": {
    "name": "ipython",
    "version": 3
   },
   "file_extension": ".py",
   "mimetype": "text/x-python",
   "name": "python",
   "nbconvert_exporter": "python",
   "pygments_lexer": "ipython3",
   "version": "3.9.13"
  }
 },
 "nbformat": 4,
 "nbformat_minor": 5
}
