{
 "cells": [
  {
   "cell_type": "markdown",
   "id": "a5e38170",
   "metadata": {},
   "source": [
    "# Unsupervised Machine Learning: World University Rankings"
   ]
  },
  {
   "cell_type": "markdown",
   "id": "13937362",
   "metadata": {},
   "source": [
    "## 1. Importing libraries and data load"
   ]
  },
  {
   "cell_type": "code",
   "execution_count": 54,
   "id": "15441896",
   "metadata": {},
   "outputs": [],
   "source": [
    "# Import libraries\n",
    "import pandas as pd\n",
    "import numpy as np\n",
    "import seaborn as sns\n",
    "import matplotlib\n",
    "import matplotlib.pyplot as plt\n",
    "import os\n",
    "import sklearn\n",
    "from sklearn.cluster import KMeans # Here is where you import the k-means algorithm from scikit-learn.\n",
    "import pylab as pl # PyLab is a convenience module that bulk imports matplotlib."
   ]
  },
  {
   "cell_type": "code",
   "execution_count": 55,
   "id": "c8ed0f2f",
   "metadata": {},
   "outputs": [],
   "source": [
    "# This option ensures the graphs you create are displayed in your notebook without the need to \"call\" them specifically.\n",
    "\n",
    "%matplotlib inline"
   ]
  },
  {
   "cell_type": "code",
   "execution_count": 56,
   "id": "c47cd7a2",
   "metadata": {},
   "outputs": [],
   "source": [
    "# Load data/define path \n",
    "path = r'C:\\Users\\ale_o\\OneDrive\\Escritorio\\Data Analytics\\7. Advanced Analytics and Dashboard Design'"
   ]
  },
  {
   "cell_type": "code",
   "execution_count": 57,
   "id": "d74a69ce",
   "metadata": {},
   "outputs": [],
   "source": [
    "# Load data \n",
    "df = pd.read_csv(os.path.join(path, 'Data', 'Original Data', 'cwurData.csv'))"
   ]
  },
  {
   "cell_type": "code",
   "execution_count": 58,
   "id": "5a13c254",
   "metadata": {},
   "outputs": [
    {
     "data": {
      "text/plain": [
       "(2200, 14)"
      ]
     },
     "execution_count": 58,
     "metadata": {},
     "output_type": "execute_result"
    }
   ],
   "source": [
    "df.shape"
   ]
  },
  {
   "cell_type": "code",
   "execution_count": 59,
   "id": "37706e92",
   "metadata": {},
   "outputs": [
    {
     "data": {
      "text/html": [
       "<div>\n",
       "<style scoped>\n",
       "    .dataframe tbody tr th:only-of-type {\n",
       "        vertical-align: middle;\n",
       "    }\n",
       "\n",
       "    .dataframe tbody tr th {\n",
       "        vertical-align: top;\n",
       "    }\n",
       "\n",
       "    .dataframe thead th {\n",
       "        text-align: right;\n",
       "    }\n",
       "</style>\n",
       "<table border=\"1\" class=\"dataframe\">\n",
       "  <thead>\n",
       "    <tr style=\"text-align: right;\">\n",
       "      <th></th>\n",
       "      <th>world_rank</th>\n",
       "      <th>institution</th>\n",
       "      <th>country</th>\n",
       "      <th>national_rank</th>\n",
       "      <th>quality_of_education</th>\n",
       "      <th>alumni_employment</th>\n",
       "      <th>quality_of_faculty</th>\n",
       "      <th>publications</th>\n",
       "      <th>influence</th>\n",
       "      <th>citations</th>\n",
       "      <th>broad_impact</th>\n",
       "      <th>patents</th>\n",
       "      <th>score</th>\n",
       "      <th>year</th>\n",
       "    </tr>\n",
       "  </thead>\n",
       "  <tbody>\n",
       "    <tr>\n",
       "      <th>0</th>\n",
       "      <td>1000</td>\n",
       "      <td>Harvard University</td>\n",
       "      <td>United States of America</td>\n",
       "      <td>1</td>\n",
       "      <td>367</td>\n",
       "      <td>1</td>\n",
       "      <td>1</td>\n",
       "      <td>1</td>\n",
       "      <td>1</td>\n",
       "      <td>1</td>\n",
       "      <td>NaN</td>\n",
       "      <td>7</td>\n",
       "      <td>100.00</td>\n",
       "      <td>2013</td>\n",
       "    </tr>\n",
       "    <tr>\n",
       "      <th>1</th>\n",
       "      <td>999</td>\n",
       "      <td>Harvard University</td>\n",
       "      <td>United States of America</td>\n",
       "      <td>1</td>\n",
       "      <td>367</td>\n",
       "      <td>1</td>\n",
       "      <td>1</td>\n",
       "      <td>1</td>\n",
       "      <td>1</td>\n",
       "      <td>1</td>\n",
       "      <td>1.0</td>\n",
       "      <td>2</td>\n",
       "      <td>100.00</td>\n",
       "      <td>2014</td>\n",
       "    </tr>\n",
       "    <tr>\n",
       "      <th>2</th>\n",
       "      <td>999</td>\n",
       "      <td>Harvard University</td>\n",
       "      <td>United States of America</td>\n",
       "      <td>1</td>\n",
       "      <td>367</td>\n",
       "      <td>1</td>\n",
       "      <td>1</td>\n",
       "      <td>1</td>\n",
       "      <td>1</td>\n",
       "      <td>1</td>\n",
       "      <td>1.0</td>\n",
       "      <td>3</td>\n",
       "      <td>100.00</td>\n",
       "      <td>2015</td>\n",
       "    </tr>\n",
       "    <tr>\n",
       "      <th>3</th>\n",
       "      <td>960</td>\n",
       "      <td>Rockefeller University</td>\n",
       "      <td>United States of America</td>\n",
       "      <td>15</td>\n",
       "      <td>367</td>\n",
       "      <td>101</td>\n",
       "      <td>16</td>\n",
       "      <td>101</td>\n",
       "      <td>28</td>\n",
       "      <td>96</td>\n",
       "      <td>NaN</td>\n",
       "      <td>101</td>\n",
       "      <td>61.74</td>\n",
       "      <td>2012</td>\n",
       "    </tr>\n",
       "    <tr>\n",
       "      <th>4</th>\n",
       "      <td>994</td>\n",
       "      <td>University of Cambridge</td>\n",
       "      <td>United Kingdom</td>\n",
       "      <td>1</td>\n",
       "      <td>367</td>\n",
       "      <td>10</td>\n",
       "      <td>5</td>\n",
       "      <td>10</td>\n",
       "      <td>9</td>\n",
       "      <td>12</td>\n",
       "      <td>13.0</td>\n",
       "      <td>48</td>\n",
       "      <td>97.64</td>\n",
       "      <td>2014</td>\n",
       "    </tr>\n",
       "    <tr>\n",
       "      <th>5</th>\n",
       "      <td>993</td>\n",
       "      <td>University of Cambridge</td>\n",
       "      <td>United Kingdom</td>\n",
       "      <td>1</td>\n",
       "      <td>367</td>\n",
       "      <td>10</td>\n",
       "      <td>5</td>\n",
       "      <td>11</td>\n",
       "      <td>6</td>\n",
       "      <td>12</td>\n",
       "      <td>13.0</td>\n",
       "      <td>48</td>\n",
       "      <td>96.81</td>\n",
       "      <td>2015</td>\n",
       "    </tr>\n",
       "    <tr>\n",
       "      <th>6</th>\n",
       "      <td>993</td>\n",
       "      <td>Massachusetts Institute of Technology</td>\n",
       "      <td>United States of America</td>\n",
       "      <td>3</td>\n",
       "      <td>367</td>\n",
       "      <td>16</td>\n",
       "      <td>2</td>\n",
       "      <td>16</td>\n",
       "      <td>3</td>\n",
       "      <td>3</td>\n",
       "      <td>NaN</td>\n",
       "      <td>1</td>\n",
       "      <td>91.45</td>\n",
       "      <td>2013</td>\n",
       "    </tr>\n",
       "    <tr>\n",
       "      <th>7</th>\n",
       "      <td>991</td>\n",
       "      <td>California Institute of Technology</td>\n",
       "      <td>United States of America</td>\n",
       "      <td>4</td>\n",
       "      <td>367</td>\n",
       "      <td>29</td>\n",
       "      <td>7</td>\n",
       "      <td>37</td>\n",
       "      <td>22</td>\n",
       "      <td>22</td>\n",
       "      <td>NaN</td>\n",
       "      <td>18</td>\n",
       "      <td>85.21</td>\n",
       "      <td>2012</td>\n",
       "    </tr>\n",
       "    <tr>\n",
       "      <th>8</th>\n",
       "      <td>995</td>\n",
       "      <td>Massachusetts Institute of Technology</td>\n",
       "      <td>United States of America</td>\n",
       "      <td>3</td>\n",
       "      <td>367</td>\n",
       "      <td>11</td>\n",
       "      <td>2</td>\n",
       "      <td>15</td>\n",
       "      <td>2</td>\n",
       "      <td>2</td>\n",
       "      <td>2.0</td>\n",
       "      <td>1</td>\n",
       "      <td>98.69</td>\n",
       "      <td>2014</td>\n",
       "    </tr>\n",
       "    <tr>\n",
       "      <th>9</th>\n",
       "      <td>995</td>\n",
       "      <td>Massachusetts Institute of Technology</td>\n",
       "      <td>United States of America</td>\n",
       "      <td>3</td>\n",
       "      <td>367</td>\n",
       "      <td>11</td>\n",
       "      <td>2</td>\n",
       "      <td>15</td>\n",
       "      <td>2</td>\n",
       "      <td>2</td>\n",
       "      <td>2.0</td>\n",
       "      <td>1</td>\n",
       "      <td>97.54</td>\n",
       "      <td>2015</td>\n",
       "    </tr>\n",
       "  </tbody>\n",
       "</table>\n",
       "</div>"
      ],
      "text/plain": [
       "   world_rank                            institution  \\\n",
       "0        1000                     Harvard University   \n",
       "1         999                     Harvard University   \n",
       "2         999                     Harvard University   \n",
       "3         960                 Rockefeller University   \n",
       "4         994                University of Cambridge   \n",
       "5         993                University of Cambridge   \n",
       "6         993  Massachusetts Institute of Technology   \n",
       "7         991     California Institute of Technology   \n",
       "8         995  Massachusetts Institute of Technology   \n",
       "9         995  Massachusetts Institute of Technology   \n",
       "\n",
       "                    country  national_rank  quality_of_education  \\\n",
       "0  United States of America              1                   367   \n",
       "1  United States of America              1                   367   \n",
       "2  United States of America              1                   367   \n",
       "3  United States of America             15                   367   \n",
       "4            United Kingdom              1                   367   \n",
       "5            United Kingdom              1                   367   \n",
       "6  United States of America              3                   367   \n",
       "7  United States of America              4                   367   \n",
       "8  United States of America              3                   367   \n",
       "9  United States of America              3                   367   \n",
       "\n",
       "   alumni_employment  quality_of_faculty  publications  influence  citations  \\\n",
       "0                  1                   1             1          1          1   \n",
       "1                  1                   1             1          1          1   \n",
       "2                  1                   1             1          1          1   \n",
       "3                101                  16           101         28         96   \n",
       "4                 10                   5            10          9         12   \n",
       "5                 10                   5            11          6         12   \n",
       "6                 16                   2            16          3          3   \n",
       "7                 29                   7            37         22         22   \n",
       "8                 11                   2            15          2          2   \n",
       "9                 11                   2            15          2          2   \n",
       "\n",
       "   broad_impact  patents   score  year  \n",
       "0           NaN        7  100.00  2013  \n",
       "1           1.0        2  100.00  2014  \n",
       "2           1.0        3  100.00  2015  \n",
       "3           NaN      101   61.74  2012  \n",
       "4          13.0       48   97.64  2014  \n",
       "5          13.0       48   96.81  2015  \n",
       "6           NaN        1   91.45  2013  \n",
       "7           NaN       18   85.21  2012  \n",
       "8           2.0        1   98.69  2014  \n",
       "9           2.0        1   97.54  2015  "
      ]
     },
     "execution_count": 59,
     "metadata": {},
     "output_type": "execute_result"
    }
   ],
   "source": [
    "df.head(10)"
   ]
  },
  {
   "cell_type": "code",
   "execution_count": 60,
   "id": "95d9b700",
   "metadata": {},
   "outputs": [
    {
     "data": {
      "text/plain": [
       "world_rank                0\n",
       "institution               0\n",
       "country                   0\n",
       "national_rank             0\n",
       "quality_of_education      0\n",
       "alumni_employment         0\n",
       "quality_of_faculty        0\n",
       "publications              0\n",
       "influence                 0\n",
       "citations                 0\n",
       "broad_impact            200\n",
       "patents                   0\n",
       "score                     0\n",
       "year                      0\n",
       "dtype: int64"
      ]
     },
     "execution_count": 60,
     "metadata": {},
     "output_type": "execute_result"
    }
   ],
   "source": [
    "df.isnull().sum()"
   ]
  },
  {
   "cell_type": "code",
   "execution_count": 88,
   "id": "62a79169",
   "metadata": {},
   "outputs": [],
   "source": [
    "# Define numerical variables for analysis\n",
    "analysis = df[['world_rank', 'national_rank', 'quality_of_education',\n",
    "    'patents', 'score']]"
   ]
  },
  {
   "cell_type": "code",
   "execution_count": 86,
   "id": "057c987a",
   "metadata": {},
   "outputs": [
    {
     "data": {
      "text/html": [
       "<div>\n",
       "<style scoped>\n",
       "    .dataframe tbody tr th:only-of-type {\n",
       "        vertical-align: middle;\n",
       "    }\n",
       "\n",
       "    .dataframe tbody tr th {\n",
       "        vertical-align: top;\n",
       "    }\n",
       "\n",
       "    .dataframe thead th {\n",
       "        text-align: right;\n",
       "    }\n",
       "</style>\n",
       "<table border=\"1\" class=\"dataframe\">\n",
       "  <thead>\n",
       "    <tr style=\"text-align: right;\">\n",
       "      <th></th>\n",
       "      <th>world_rank</th>\n",
       "      <th>national_rank</th>\n",
       "      <th>quality_of_education</th>\n",
       "      <th>patents</th>\n",
       "      <th>score</th>\n",
       "    </tr>\n",
       "  </thead>\n",
       "  <tbody>\n",
       "    <tr>\n",
       "      <th>0</th>\n",
       "      <td>1000</td>\n",
       "      <td>1</td>\n",
       "      <td>367</td>\n",
       "      <td>7</td>\n",
       "      <td>100.00</td>\n",
       "    </tr>\n",
       "    <tr>\n",
       "      <th>1</th>\n",
       "      <td>999</td>\n",
       "      <td>1</td>\n",
       "      <td>367</td>\n",
       "      <td>2</td>\n",
       "      <td>100.00</td>\n",
       "    </tr>\n",
       "    <tr>\n",
       "      <th>2</th>\n",
       "      <td>999</td>\n",
       "      <td>1</td>\n",
       "      <td>367</td>\n",
       "      <td>3</td>\n",
       "      <td>100.00</td>\n",
       "    </tr>\n",
       "    <tr>\n",
       "      <th>3</th>\n",
       "      <td>960</td>\n",
       "      <td>15</td>\n",
       "      <td>367</td>\n",
       "      <td>101</td>\n",
       "      <td>61.74</td>\n",
       "    </tr>\n",
       "    <tr>\n",
       "      <th>4</th>\n",
       "      <td>994</td>\n",
       "      <td>1</td>\n",
       "      <td>367</td>\n",
       "      <td>48</td>\n",
       "      <td>97.64</td>\n",
       "    </tr>\n",
       "    <tr>\n",
       "      <th>5</th>\n",
       "      <td>993</td>\n",
       "      <td>1</td>\n",
       "      <td>367</td>\n",
       "      <td>48</td>\n",
       "      <td>96.81</td>\n",
       "    </tr>\n",
       "    <tr>\n",
       "      <th>6</th>\n",
       "      <td>993</td>\n",
       "      <td>3</td>\n",
       "      <td>367</td>\n",
       "      <td>1</td>\n",
       "      <td>91.45</td>\n",
       "    </tr>\n",
       "    <tr>\n",
       "      <th>7</th>\n",
       "      <td>991</td>\n",
       "      <td>4</td>\n",
       "      <td>367</td>\n",
       "      <td>18</td>\n",
       "      <td>85.21</td>\n",
       "    </tr>\n",
       "    <tr>\n",
       "      <th>8</th>\n",
       "      <td>995</td>\n",
       "      <td>3</td>\n",
       "      <td>367</td>\n",
       "      <td>1</td>\n",
       "      <td>98.69</td>\n",
       "    </tr>\n",
       "    <tr>\n",
       "      <th>9</th>\n",
       "      <td>995</td>\n",
       "      <td>3</td>\n",
       "      <td>367</td>\n",
       "      <td>1</td>\n",
       "      <td>97.54</td>\n",
       "    </tr>\n",
       "  </tbody>\n",
       "</table>\n",
       "</div>"
      ],
      "text/plain": [
       "   world_rank  national_rank  quality_of_education  patents   score\n",
       "0        1000              1                   367        7  100.00\n",
       "1         999              1                   367        2  100.00\n",
       "2         999              1                   367        3  100.00\n",
       "3         960             15                   367      101   61.74\n",
       "4         994              1                   367       48   97.64\n",
       "5         993              1                   367       48   96.81\n",
       "6         993              3                   367        1   91.45\n",
       "7         991              4                   367       18   85.21\n",
       "8         995              3                   367        1   98.69\n",
       "9         995              3                   367        1   97.54"
      ]
     },
     "execution_count": 86,
     "metadata": {},
     "output_type": "execute_result"
    }
   ],
   "source": [
    "analysis.head(10)"
   ]
  },
  {
   "cell_type": "code",
   "execution_count": 64,
   "id": "f9b87e4c",
   "metadata": {},
   "outputs": [
    {
     "data": {
      "text/plain": [
       "Index(['world_rank', 'country', 'national_rank', 'quality_of_education',\n",
       "       'alumni_employment', 'quality_of_faculty', 'publications', 'influence',\n",
       "       'citations', 'broad_impact', 'patents', 'score', 'year'],\n",
       "      dtype='object')"
      ]
     },
     "execution_count": 64,
     "metadata": {},
     "output_type": "execute_result"
    }
   ],
   "source": [
    "df.columns"
   ]
  },
  {
   "cell_type": "markdown",
   "id": "cb5bc56d",
   "metadata": {},
   "source": [
    "## 2. Elbow technique"
   ]
  },
  {
   "cell_type": "code",
   "execution_count": 65,
   "id": "5954a0a3",
   "metadata": {},
   "outputs": [],
   "source": [
    "# Define number of clusters\n",
    "num_cl = range(1,5)\n",
    "kmeans = [KMeans(n_clusters = i) for i in num_cl]"
   ]
  },
  {
   "cell_type": "code",
   "execution_count": 87,
   "id": "ba3d2f36",
   "metadata": {},
   "outputs": [
    {
     "data": {
      "text/plain": [
       "[-407453798.46739966,\n",
       " -159895711.924424,\n",
       " -116326832.54496884,\n",
       " -91739930.76994978]"
      ]
     },
     "execution_count": 87,
     "metadata": {},
     "output_type": "execute_result"
    }
   ],
   "source": [
    "score = [kmeans[i].fit(analysis).score(analysis) for i in range(len(kmeans))]\n",
    "score"
   ]
  },
  {
   "cell_type": "code",
   "execution_count": 90,
   "id": "75ef6fc2",
   "metadata": {},
   "outputs": [
    {
     "data": {
      "image/png": "[encoded data removed]",
      "text/plain": [
       "<Figure size 640x480 with 1 Axes>"
      ]
     },
     "metadata": {},
     "output_type": "display_data"
    }
   ],
   "source": [
    "#Plot the elbow curce \n",
    "\n",
    "pl.plot(num_cl,score)\n",
    "pl.xlabel('Number of Clusters')\n",
    "pl.ylabel('Score')\n",
    "pl.title('Elbow curve')\n",
    "pl.show()"
   ]
  },
  {
   "cell_type": "markdown",
   "id": "1a020f7d",
   "metadata": {},
   "source": [
    "#### Comments: \n",
    "The elbow technique is where the curve starts to have a flat behaviour, in the graph we can see how the line goes from 2 to 3 and then to 4. \n",
    "Therefore, 3 clusters will be considered for this analysis. "
   ]
  },
  {
   "cell_type": "markdown",
   "id": "f38cb868",
   "metadata": {},
   "source": [
    "## 3. K-means algorithm"
   ]
  },
  {
   "cell_type": "code",
   "execution_count": 92,
   "id": "7bc76699",
   "metadata": {},
   "outputs": [],
   "source": [
    "# Create the k-means object \n",
    "kmeans = KMeans(n_clusters =3)"
   ]
  },
  {
   "cell_type": "code",
   "execution_count": 96,
   "id": "f0061a25",
   "metadata": {},
   "outputs": [
    {
     "data": {
      "text/plain": [
       "KMeans(n_clusters=3)"
      ]
     },
     "execution_count": 96,
     "metadata": {},
     "output_type": "execute_result"
    }
   ],
   "source": [
    "# Fit the k-means object to the data \n",
    "kmeans.fit(analysis)"
   ]
  },
  {
   "cell_type": "code",
   "execution_count": 97,
   "id": "a6498014",
   "metadata": {},
   "outputs": [
    {
     "name": "stderr",
     "output_type": "stream",
     "text": [
      "C:\\Users\\ale_o\\AppData\\Local\\Temp\\ipykernel_12348\\3166002137.py:1: SettingWithCopyWarning: \n",
      "A value is trying to be set on a copy of a slice from a DataFrame.\n",
      "Try using .loc[row_indexer,col_indexer] = value instead\n",
      "\n",
      "See the caveats in the documentation: https://pandas.pydata.org/pandas-docs/stable/user_guide/indexing.html#returning-a-view-versus-a-copy\n",
      "  analysis['clusters'] = kmeans.fit_predict(analysis)\n"
     ]
    }
   ],
   "source": [
    "# Add a new column in dataframe to assing cluster number\n",
    "analysis['clusters'] = kmeans.fit_predict(analysis)"
   ]
  },
  {
   "cell_type": "code",
   "execution_count": 100,
   "id": "0c97c071",
   "metadata": {},
   "outputs": [
    {
     "data": {
      "text/html": [
       "<div>\n",
       "<style scoped>\n",
       "    .dataframe tbody tr th:only-of-type {\n",
       "        vertical-align: middle;\n",
       "    }\n",
       "\n",
       "    .dataframe tbody tr th {\n",
       "        vertical-align: top;\n",
       "    }\n",
       "\n",
       "    .dataframe thead th {\n",
       "        text-align: right;\n",
       "    }\n",
       "</style>\n",
       "<table border=\"1\" class=\"dataframe\">\n",
       "  <thead>\n",
       "    <tr style=\"text-align: right;\">\n",
       "      <th></th>\n",
       "      <th>world_rank</th>\n",
       "      <th>national_rank</th>\n",
       "      <th>quality_of_education</th>\n",
       "      <th>patents</th>\n",
       "      <th>score</th>\n",
       "      <th>clusters</th>\n",
       "    </tr>\n",
       "  </thead>\n",
       "  <tbody>\n",
       "    <tr>\n",
       "      <th>0</th>\n",
       "      <td>1000</td>\n",
       "      <td>1</td>\n",
       "      <td>367</td>\n",
       "      <td>7</td>\n",
       "      <td>100.00</td>\n",
       "      <td>1</td>\n",
       "    </tr>\n",
       "    <tr>\n",
       "      <th>1</th>\n",
       "      <td>999</td>\n",
       "      <td>1</td>\n",
       "      <td>367</td>\n",
       "      <td>2</td>\n",
       "      <td>100.00</td>\n",
       "      <td>1</td>\n",
       "    </tr>\n",
       "    <tr>\n",
       "      <th>2</th>\n",
       "      <td>999</td>\n",
       "      <td>1</td>\n",
       "      <td>367</td>\n",
       "      <td>3</td>\n",
       "      <td>100.00</td>\n",
       "      <td>1</td>\n",
       "    </tr>\n",
       "    <tr>\n",
       "      <th>3</th>\n",
       "      <td>960</td>\n",
       "      <td>15</td>\n",
       "      <td>367</td>\n",
       "      <td>101</td>\n",
       "      <td>61.74</td>\n",
       "      <td>1</td>\n",
       "    </tr>\n",
       "    <tr>\n",
       "      <th>4</th>\n",
       "      <td>994</td>\n",
       "      <td>1</td>\n",
       "      <td>367</td>\n",
       "      <td>48</td>\n",
       "      <td>97.64</td>\n",
       "      <td>1</td>\n",
       "    </tr>\n",
       "    <tr>\n",
       "      <th>5</th>\n",
       "      <td>993</td>\n",
       "      <td>1</td>\n",
       "      <td>367</td>\n",
       "      <td>48</td>\n",
       "      <td>96.81</td>\n",
       "      <td>1</td>\n",
       "    </tr>\n",
       "    <tr>\n",
       "      <th>6</th>\n",
       "      <td>993</td>\n",
       "      <td>3</td>\n",
       "      <td>367</td>\n",
       "      <td>1</td>\n",
       "      <td>91.45</td>\n",
       "      <td>1</td>\n",
       "    </tr>\n",
       "    <tr>\n",
       "      <th>7</th>\n",
       "      <td>991</td>\n",
       "      <td>4</td>\n",
       "      <td>367</td>\n",
       "      <td>18</td>\n",
       "      <td>85.21</td>\n",
       "      <td>1</td>\n",
       "    </tr>\n",
       "    <tr>\n",
       "      <th>8</th>\n",
       "      <td>995</td>\n",
       "      <td>3</td>\n",
       "      <td>367</td>\n",
       "      <td>1</td>\n",
       "      <td>98.69</td>\n",
       "      <td>1</td>\n",
       "    </tr>\n",
       "    <tr>\n",
       "      <th>9</th>\n",
       "      <td>995</td>\n",
       "      <td>3</td>\n",
       "      <td>367</td>\n",
       "      <td>1</td>\n",
       "      <td>97.54</td>\n",
       "      <td>1</td>\n",
       "    </tr>\n",
       "    <tr>\n",
       "      <th>10</th>\n",
       "      <td>992</td>\n",
       "      <td>2</td>\n",
       "      <td>367</td>\n",
       "      <td>39</td>\n",
       "      <td>90.24</td>\n",
       "      <td>1</td>\n",
       "    </tr>\n",
       "    <tr>\n",
       "      <th>11</th>\n",
       "      <td>894</td>\n",
       "      <td>2</td>\n",
       "      <td>367</td>\n",
       "      <td>101</td>\n",
       "      <td>49.10</td>\n",
       "      <td>1</td>\n",
       "    </tr>\n",
       "    <tr>\n",
       "      <th>12</th>\n",
       "      <td>987</td>\n",
       "      <td>5</td>\n",
       "      <td>367</td>\n",
       "      <td>28</td>\n",
       "      <td>92.84</td>\n",
       "      <td>1</td>\n",
       "    </tr>\n",
       "    <tr>\n",
       "      <th>13</th>\n",
       "      <td>986</td>\n",
       "      <td>6</td>\n",
       "      <td>367</td>\n",
       "      <td>101</td>\n",
       "      <td>82.17</td>\n",
       "      <td>1</td>\n",
       "    </tr>\n",
       "    <tr>\n",
       "      <th>14</th>\n",
       "      <td>983</td>\n",
       "      <td>7</td>\n",
       "      <td>367</td>\n",
       "      <td>225</td>\n",
       "      <td>89.42</td>\n",
       "      <td>1</td>\n",
       "    </tr>\n",
       "  </tbody>\n",
       "</table>\n",
       "</div>"
      ],
      "text/plain": [
       "    world_rank  national_rank  quality_of_education  patents   score  clusters\n",
       "0         1000              1                   367        7  100.00         1\n",
       "1          999              1                   367        2  100.00         1\n",
       "2          999              1                   367        3  100.00         1\n",
       "3          960             15                   367      101   61.74         1\n",
       "4          994              1                   367       48   97.64         1\n",
       "5          993              1                   367       48   96.81         1\n",
       "6          993              3                   367        1   91.45         1\n",
       "7          991              4                   367       18   85.21         1\n",
       "8          995              3                   367        1   98.69         1\n",
       "9          995              3                   367        1   97.54         1\n",
       "10         992              2                   367       39   90.24         1\n",
       "11         894              2                   367      101   49.10         1\n",
       "12         987              5                   367       28   92.84         1\n",
       "13         986              6                   367      101   82.17         1\n",
       "14         983              7                   367      225   89.42         1"
      ]
     },
     "execution_count": 100,
     "metadata": {},
     "output_type": "execute_result"
    }
   ],
   "source": [
    "analysis.head(15)"
   ]
  },
  {
   "cell_type": "code",
   "execution_count": 101,
   "id": "981e5ead",
   "metadata": {},
   "outputs": [
    {
     "data": {
      "text/plain": [
       "0    835\n",
       "2    695\n",
       "1    670\n",
       "Name: clusters, dtype: int64"
      ]
     },
     "execution_count": 101,
     "metadata": {},
     "output_type": "execute_result"
    }
   ],
   "source": [
    "analysis['clusters'].value_counts()"
   ]
  },
  {
   "cell_type": "markdown",
   "id": "72e6674b",
   "metadata": {},
   "source": [
    "## 4. Create scatterplots"
   ]
  },
  {
   "cell_type": "code",
   "execution_count": 105,
   "id": "adf3a398",
   "metadata": {},
   "outputs": [
    {
     "data": {
      "image/png": "[encoded data removed]",
      "text/plain": [
       "<Figure size 1000x600 with 1 Axes>"
      ]
     },
     "metadata": {},
     "output_type": "display_data"
    }
   ],
   "source": [
    "# Plot the clusters for world_rank  \n",
    "plt.figure(figsize=(10,6))\n",
    "ax = sns.scatterplot(x=analysis['score'], y= analysis['world_rank'], hue = kmeans.labels_, s=100)\n",
    "\n",
    "ax.grid(False)\n",
    "plt.xlabel('Score')\n",
    "plt.ylabel('World Rank')\n",
    "plt.show()"
   ]
  },
  {
   "cell_type": "markdown",
   "id": "35c2df03",
   "metadata": {},
   "source": [
    "### Comments: \n",
    "The scatterplot doesn't present any groping of the data. Although, it can be seen how the variable do have a directly impact between them, since as the score increases, the ranks also increases. \n"
   ]
  },
  {
   "cell_type": "code",
   "execution_count": 110,
   "id": "e9efdd1b",
   "metadata": {},
   "outputs": [
    {
     "data": {
      "image/png": "[encoded data removed]",
      "text/plain": [
       "<Figure size 1000x600 with 1 Axes>"
      ]
     },
     "metadata": {},
     "output_type": "display_data"
    }
   ],
   "source": [
    "# Plot the clusters for world_rank  \n",
    "plt.figure(figsize=(10,6))\n",
    "ax = sns.scatterplot(x=analysis['score'], y= analysis['quality_of_education'], hue = kmeans.labels_, s=100)\n",
    "\n",
    "ax.grid(False)\n",
    "plt.xlabel('Score')\n",
    "plt.ylabel('Quality of education')\n",
    "plt.show()"
   ]
  },
  {
   "cell_type": "code",
   "execution_count": 107,
   "id": "7a97e117",
   "metadata": {},
   "outputs": [
    {
     "name": "stderr",
     "output_type": "stream",
     "text": [
      "C:\\Users\\ale_o\\AppData\\Local\\Temp\\ipykernel_12348\\2960289416.py:1: SettingWithCopyWarning: \n",
      "A value is trying to be set on a copy of a slice from a DataFrame.\n",
      "Try using .loc[row_indexer,col_indexer] = value instead\n",
      "\n",
      "See the caveats in the documentation: https://pandas.pydata.org/pandas-docs/stable/user_guide/indexing.html#returning-a-view-versus-a-copy\n",
      "  analysis.loc[analysis['clusters'] == 2, 'cluster'] = 'dark purple'\n"
     ]
    }
   ],
   "source": [
    "analysis.loc[analysis['clusters'] == 2, 'cluster'] = 'dark purple'\n",
    "analysis.loc[analysis['clusters'] == 1, 'cluster'] = 'purple'\n",
    "analysis.loc[analysis['clusters'] == 0, 'cluster'] = 'pink'"
   ]
  },
  {
   "cell_type": "code",
   "execution_count": 108,
   "id": "9b56607e",
   "metadata": {},
   "outputs": [
    {
     "data": {
      "text/html": [
       "<div>\n",
       "<style scoped>\n",
       "    .dataframe tbody tr th:only-of-type {\n",
       "        vertical-align: middle;\n",
       "    }\n",
       "\n",
       "    .dataframe tbody tr th {\n",
       "        vertical-align: top;\n",
       "    }\n",
       "\n",
       "    .dataframe thead tr th {\n",
       "        text-align: left;\n",
       "    }\n",
       "\n",
       "    .dataframe thead tr:last-of-type th {\n",
       "        text-align: right;\n",
       "    }\n",
       "</style>\n",
       "<table border=\"1\" class=\"dataframe\">\n",
       "  <thead>\n",
       "    <tr>\n",
       "      <th></th>\n",
       "      <th colspan=\"2\" halign=\"left\">quality_of_education</th>\n",
       "      <th colspan=\"2\" halign=\"left\">score</th>\n",
       "      <th colspan=\"2\" halign=\"left\">world_rank</th>\n",
       "    </tr>\n",
       "    <tr>\n",
       "      <th></th>\n",
       "      <th>mean</th>\n",
       "      <th>median</th>\n",
       "      <th>mean</th>\n",
       "      <th>median</th>\n",
       "      <th>mean</th>\n",
       "      <th>median</th>\n",
       "    </tr>\n",
       "    <tr>\n",
       "      <th>cluster</th>\n",
       "      <th></th>\n",
       "      <th></th>\n",
       "      <th></th>\n",
       "      <th></th>\n",
       "      <th></th>\n",
       "      <th></th>\n",
       "    </tr>\n",
       "  </thead>\n",
       "  <tbody>\n",
       "    <tr>\n",
       "      <th>dark purple</th>\n",
       "      <td>299.919424</td>\n",
       "      <td>355.0</td>\n",
       "      <td>45.845914</td>\n",
       "      <td>45.370</td>\n",
       "      <td>497.418705</td>\n",
       "      <td>497.0</td>\n",
       "    </tr>\n",
       "    <tr>\n",
       "      <th>pink</th>\n",
       "      <td>195.323353</td>\n",
       "      <td>234.0</td>\n",
       "      <td>44.409509</td>\n",
       "      <td>44.390</td>\n",
       "      <td>144.682635</td>\n",
       "      <td>109.0</td>\n",
       "    </tr>\n",
       "    <tr>\n",
       "      <th>purple</th>\n",
       "      <td>348.779104</td>\n",
       "      <td>367.0</td>\n",
       "      <td>54.047194</td>\n",
       "      <td>49.735</td>\n",
       "      <td>812.811940</td>\n",
       "      <td>828.5</td>\n",
       "    </tr>\n",
       "  </tbody>\n",
       "</table>\n",
       "</div>"
      ],
      "text/plain": [
       "            quality_of_education             score          world_rank       \n",
       "                            mean median       mean  median        mean median\n",
       "cluster                                                                      \n",
       "dark purple           299.919424  355.0  45.845914  45.370  497.418705  497.0\n",
       "pink                  195.323353  234.0  44.409509  44.390  144.682635  109.0\n",
       "purple                348.779104  367.0  54.047194  49.735  812.811940  828.5"
      ]
     },
     "execution_count": 108,
     "metadata": {},
     "output_type": "execute_result"
    }
   ],
   "source": [
    "analysis.groupby('cluster').agg({'quality_of_education':['mean', 'median'], \n",
    "                         'score':['mean', 'median'], \n",
    "                         'world_rank':['mean', 'median']})"
   ]
  },
  {
   "cell_type": "markdown",
   "id": "f48ebdff",
   "metadata": {},
   "source": [
    "### Comments: \n",
    "For both variables, quality of education and world rank, we can see there are not clusters defined that follow the behaviour of a group. "
   ]
  },
  {
   "cell_type": "markdown",
   "id": "d8c63e8b",
   "metadata": {},
   "source": [
    "As following steps it could be useful to see if it is necessary to increase the data analyzed."
   ]
  },
  {
   "cell_type": "code",
   "execution_count": null,
   "id": "4d1650de",
   "metadata": {},
   "outputs": [],
   "source": []
  }
 ],
 "metadata": {
  "kernelspec": {
   "display_name": "Python 3 (ipykernel)",
   "language": "python",
   "name": "python3"
  },
  "language_info": {
   "codemirror_mode": {
    "name": "ipython",
    "version": 3
   },
   "file_extension": ".py",
   "mimetype": "text/x-python",
   "name": "python",
   "nbconvert_exporter": "python",
   "pygments_lexer": "ipython3",
   "version": "3.9.13"
  }
 },
 "nbformat": 4,
 "nbformat_minor": 5
}
